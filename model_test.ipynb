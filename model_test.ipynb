{
 "cells": [
  {
   "cell_type": "code",
   "execution_count": 1,
   "id": "b199b95d",
   "metadata": {},
   "outputs": [
    {
     "name": "stderr",
     "output_type": "stream",
     "text": [
      "c:\\Users\\cyeli\\anaconda3\\envs\\recycle\\Lib\\site-packages\\tqdm\\auto.py:21: TqdmWarning: IProgress not found. Please update jupyter and ipywidgets. See https://ipywidgets.readthedocs.io/en/stable/user_install.html\n",
      "  from .autonotebook import tqdm as notebook_tqdm\n"
     ]
    }
   ],
   "source": [
    "from transformers import AutoTokenizer, AutoModelForCausalLM\n",
    "import torch\n",
    "\n",
    "# 저장된 로컬 디렉토리 경로\n",
    "local_model_path = \"./HyperCLOVAX-Local\"\n",
    "device = torch.device(\"cuda\" if torch.cuda.is_available() else \"cpu\")\n",
    "\n",
    "# 로컬 경로에서 모델과 토크나이저 불러오기\n",
    "tokenizer = AutoTokenizer.from_pretrained(local_model_path, use_fast=True)\n",
    "model = AutoModelForCausalLM.from_pretrained(local_model_path).to(device)\n"
   ]
  },
  {
   "cell_type": "code",
   "execution_count": 2,
   "id": "65cb0a0f",
   "metadata": {},
   "outputs": [
    {
     "name": "stdout",
     "output_type": "stream",
     "text": [
      "식물 관리 방법을 알려줘.\n",
      "\n",
      "**4. 수생식물**\n",
      "- **예시:** 연꽃, 물고기풀, 수선화\n",
      "- **관리 방법:** 물의 질과 유량을 적절히 유지하며, 영양분이 풍부한 토양을 사용하는 것이 중요합니다. 연꽃은 특히 여름철에 적합하며, 물속에서 잘 자라지만 배수 시스템이 중요합니다.\n",
      "\n",
      "**5. 관상용 화초**\n",
      "- **예시:** 튤립, 데이지, 장미\n"
     ]
    }
   ],
   "source": [
    "# 텍스트 생성 테스트\n",
    "input_text = \"식물 관리 방법을 알려줘\"\n",
    "inputs = tokenizer(input_text, return_tensors=\"pt\").to(device)\n",
    "\n",
    "with torch.no_grad():\n",
    "    outputs = model.generate(\n",
    "        **inputs,\n",
    "        max_new_tokens=100,\n",
    "        do_sample=True,\n",
    "        top_p=0.95,\n",
    "        temperature=0.8\n",
    "    )\n",
    "\n",
    "print(tokenizer.decode(outputs[0], skip_special_tokens=True))"
   ]
  }
 ],
 "metadata": {
  "kernelspec": {
   "display_name": "recycle",
   "language": "python",
   "name": "python3"
  },
  "language_info": {
   "codemirror_mode": {
    "name": "ipython",
    "version": 3
   },
   "file_extension": ".py",
   "mimetype": "text/x-python",
   "name": "python",
   "nbconvert_exporter": "python",
   "pygments_lexer": "ipython3",
   "version": "3.13.2"
  }
 },
 "nbformat": 4,
 "nbformat_minor": 5
}
